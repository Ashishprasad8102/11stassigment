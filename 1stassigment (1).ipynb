{
 "cells": [
  {
   "cell_type": "code",
   "execution_count": 1,
   "id": "4db472c2-a582-4852-b4fc-bd773f21a203",
   "metadata": {},
   "outputs": [
    {
     "ename": "SyntaxError",
     "evalue": "invalid decimal literal (935707088.py, line 1)",
     "output_type": "error",
     "traceback": [
      "\u001b[0;36m  Cell \u001b[0;32mIn[1], line 1\u001b[0;36m\u001b[0m\n\u001b[0;31m    1.In this example, a for loop is used to iterate over a range of numbers from 1 to 5. The loop variable i takes\u001b[0m\n\u001b[0m     ^\u001b[0m\n\u001b[0;31mSyntaxError\u001b[0m\u001b[0;31m:\u001b[0m invalid decimal literal\n"
     ]
    }
   ],
   "source": [
    "1.In this example, a for loop is used to iterate over a range of numbers from 1 to 5. The loop variable i takes\n",
    "the values from 1 to 5 in each iteration, and the print() function displays the value of i. This is useful when\n",
    "you know the number of iterations or when you want to perform an action for a specific range of values.\n",
    "\n",
    "Here, a while loop is used to repeatedly prompt the user to enter a password until they enter the correct password,\n",
    "which is \"secret\" in this case. The loop continues until the condition password != 'secret' is false. This is\n",
    "useful when you want to repeat a block of code until a specific condition is met, without knowing the exact \n",
    "number of iterations in advance."
   ]
  },
  {
   "cell_type": "code",
   "execution_count": null,
   "id": "02dc7fe8-1e81-4293-93ea-f43bb785cc00",
   "metadata": {},
   "outputs": [],
   "source": [
    "2.for loop:\n",
    "    # Calculating sum using a for loop\n",
    "sum_result = 0\n",
    "for i in range(1, 11):\n",
    "    sum_result += i\n",
    "\n",
    "# Calculating product using a for loop\n",
    "product_result = 1\n",
    "for i in range(1, 11):\n",
    "    product_result *= i\n",
    "\n",
    "# Printing the results\n",
    "print(\"Sum of the first 10 natural numbers:\", sum_result)\n",
    "print(\"Product of the first 10 natural numbers:\", product_result)\n",
    "\n",
    "\n",
    "while loop:\n",
    "    # Calculating sum using a while loop\n",
    "sum_result = 0\n",
    "i = 1\n",
    "while i <= 10:\n",
    "    sum_result += i\n",
    "    i += 1\n",
    "\n",
    "# Calculating product using a while loop\n",
    "product_result = 1\n",
    "i = 1\n",
    "while i <= 10:\n",
    "    product_result *= i\n",
    "    i += 1\n",
    "\n",
    "# Printing the results\n",
    "print(\"Sum of the first 10 natural numbers:\", sum_result)\n",
    "print(\"Product of the first 10 natural numbers:\", product_result)\n"
   ]
  },
  {
   "cell_type": "code",
   "execution_count": null,
   "id": "6da7d02e-52b0-4fbb-8fdc-d5863784f092",
   "metadata": {},
   "outputs": [],
   "source": [
    "3.# Input the number of units consumed\n",
    "units_consumed = int(input(\"Enter the number of units consumed: \"))\n",
    "\n",
    "# Initialize variables\n",
    "total_bill = 0\n",
    "remaining_units = units_consumed\n",
    "\n",
    "# Calculate the bill based on the per-unit charges\n",
    "if remaining\n"
   ]
  },
  {
   "cell_type": "code",
   "execution_count": null,
   "id": "b711104b-4333-4b12-875e-b1a6dc3fe180",
   "metadata": {},
   "outputs": [],
   "source": [
    "4.# Using a for loop to calculate the cube and check divisibility\n",
    "numbers = list(range(1, 101))\n",
    "result_list = []\n",
    "\n",
    "for num in numbers:\n",
    "    cube = num ** 3\n",
    "    if cube % 4 == 0 or cube % 5 == 0:\n",
    "        result_list.append(num)\n",
    "\n",
    "# Printing the resulting list\n",
    "print(result_list)\n",
    "\n",
    "\n",
    "# Using a while loop to calculate the cube and check divisibility\n",
    "numbers = list(range(1, 101))\n",
    "result_list = []\n",
    "\n",
    "i = 0\n",
    "while i < len(numbers):\n",
    "    num = numbers[i]\n",
    "    cube = num ** 3\n",
    "    if cube % 4 == 0 or cube % 5 == 0:\n",
    "        result_list.append(num)\n",
    "    i += 1\n",
    "\n",
    "# Printing the resulting list\n",
    "print(result_list)\n"
   ]
  },
  {
   "cell_type": "code",
   "execution_count": null,
   "id": "d7083999-a279-414d-9251-4bf10ea2c410",
   "metadata": {},
   "outputs": [],
   "source": [
    "5.string = \"i want to become a datascientist\"\n",
    "\n",
    "vowels = ['a', 'e', 'i', 'o', 'u']\n",
    "count = 0\n",
    "\n",
    "# Converting the string to lowercase to handle both uppercase and lowercase vowels\n",
    "string = string.lower()\n",
    "\n",
    "for char in string:\n",
    "    if char in vowels:\n",
    "        count += 1\n",
    "\n",
    "print(\"Number of vowels:\", count)\n"
   ]
  }
 ],
 "metadata": {
  "kernelspec": {
   "display_name": "Python 3 (ipykernel)",
   "language": "python",
   "name": "python3"
  },
  "language_info": {
   "codemirror_mode": {
    "name": "ipython",
    "version": 3
   },
   "file_extension": ".py",
   "mimetype": "text/x-python",
   "name": "python",
   "nbconvert_exporter": "python",
   "pygments_lexer": "ipython3",
   "version": "3.10.8"
  }
 },
 "nbformat": 4,
 "nbformat_minor": 5
}
